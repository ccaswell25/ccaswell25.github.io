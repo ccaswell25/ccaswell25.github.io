{
 "cells": [
  {
   "cell_type": "raw",
   "id": "b237dbed",
   "metadata": {},
   "source": [
    "---\n",
    "title: \"Understanding Air Quality Impacts of Santa Barbara County's Thomas Fire \"\n",
    "description: \"Visualizing changes in air quality index (AQI). A blog for EDS220: Working with Environmental Datasets\"\n",
    "author:\n",
    " - name: Carly Caswell\n",
    "   url: {}\n",
    "   affiliation: Master of Environmental Data Science Program @ The Bren School (UCSB) & The National Center for Ecological Analysis & Synthesis\n",
    "   affiliation-url: https://ucsb-meds.github.io/\n",
    "date: 12-07-2023\n",
    "categories: [Python, GIS, Climate, MEDS] \n",
    "preview: graph.png\n",
    "format:\n",
    "  html:\n",
    "    code-fold: true\n",
    "---"
   ]
  },
  {
   "cell_type": "markdown",
   "id": "e2103a12",
   "metadata": {},
   "source": [
    "[Project Repository Located Here With More Details](https://github.com/ccaswell25/eds220-hwk4-task3)\n"
   ]
  },
  {
   "cell_type": "markdown",
   "id": "059157cc-c113-4509-9677-8b124cda855e",
   "metadata": {},
   "source": [
    "## About This Project\n",
    "\n",
    "The Thomas Fire was a wildfire that occured in December 2017 in Santa Barbara County and it had devastating impacts on the community. Knowing the risks, dangers, and effects of wildfires on populated areas, my analysis aims to visualize data surrounding key aspects of wildfires: the damage to the physical area and the air quality. In order to to do this, I will create a false color image to understand the burn area of the Thomas fire in 2017 as well as create a visualization to show the impact of air quality in Santa Barbara during the time period of the fire.  \n",
    "\n",
    "![](tm_fire.png){width=50%}\n",
    "\n",
    "*Pictured: Thousands of Acres Burn Across Santa Barbara County. Sourced by Al Seib of the Los Angeles Times*\n",
    "\n",
    "\n",
    "[Click here for more details on the Thomas Fire](https://en.wikipedia.org/wiki/Thomas_Fire)\n",
    "\n",
    "### Analysis Highlights:\n",
    "\n",
    "-Geospatial data exploration using pandas\n",
    "\n",
    "-Data wrangling and manipulation of raster and tabular data \n",
    "\n",
    "-Data analysis to calculate moving averages for air quality index during the period of the Thomas Fire (2017)\n",
    "\n",
    "-Creating and customizing a map of the Thomas Fire burn area and AQI moving averages from 2017-2018\n",
    "\n",
    "### About the Data:\n",
    "\n",
    "**Dataset 1: Landsat Data**\n",
    "\n",
    "A simplified collection of bands (red, green, blue, near-infrared and shortwave infrared) from the Landsat Collection 2 Level-2 atmosperically corrected surface reflectance data, collected by the Landsat 8 satellite. For more information on Landsat bands, reference: (https://www.usgs.gov/faqs/what-are-band-designations-landsat-satellites)\n",
    "\n",
    "[Click here for the data source](https://planetarycomputer.microsoft.com/dataset/landsat-c2-l2)\n",
    "\n",
    "\n",
    "\n",
    "**Dataset 2: CA Fires**\n",
    "\n",
    "A shapefile of fire perimeters in California during 2017. \n",
    "\n",
    "[Click here for the data source](https://gis.data.ca.gov/datasets/CALFIRE-Forestry::california-fire-perimeters-all-1/about)\n",
    "\n",
    " \n",
    " \n",
    "**Dataset 3: AQI**\n",
    "\n",
    "National Air Quality Index (AQI) data from the US Environmental Protection Agency. I am specifically going to analyze AQI data for 2017 and 2018 in Santa Barbara County.\n",
    "\n",
    "[Click here for the data source](https://aqs.epa.gov/aqsweb/airdata/download_files.html#AQI)\n"
   ]
  },
  {
   "cell_type": "markdown",
   "id": "455055b7-c86d-4977-9297-2caeb594e8d1",
   "metadata": {},
   "source": [
    "# Importing "
   ]
  },
  {
   "cell_type": "code",
   "execution_count": 79,
   "id": "3a33a77b-c536-4fff-bb2f-b04fdfc4b8be",
   "metadata": {},
   "outputs": [],
   "source": [
    "#Importing Libraries\n",
    "import os\n",
    "import numpy as np\n",
    "import pandas as pd\n",
    "import geopandas as gpd\n",
    "import rioxarray as rioxr\n",
    "import xarray as xr\n",
    "import pandas as pd \n",
    "from shapely.geometry import Polygon \n",
    "import matplotlib.pyplot as plt\n",
    "from matplotlib.patches import Patch\n",
    "from shapely.geometry import Point\n",
    "import matplotlib.lines as mlines\n"
   ]
  },
  {
   "cell_type": "code",
   "execution_count": 67,
   "id": "afaabf4d-9692-4728-9678-69d6034b7fd0",
   "metadata": {},
   "outputs": [],
   "source": [
    "# Importing Data\n",
    "#Reading in bands data \n",
    "bands = os.path.join(os.getcwd(), 'data', 'landsat8-2018-01-26-sb-simplified.nc') \n",
    "bands = rioxr.open_rasterio(bands)\n",
    "\n",
    "#Reading in CA fires data \n",
    "ca_fires = gpd.read_file(os.path.join(os.getcwd(), 'data', 'California_Fire_Perimeters_2017.shp'))\n",
    "\n",
    "#Reading in AQI data for 2017 and 2018\n",
    "aqi_17 = pd.read_csv(\"https://aqs.epa.gov/aqsweb/airdata/daily_aqi_by_county_2017.zip\")\n",
    "aqi_18 = pd.read_csv(\"https://aqs.epa.gov/aqsweb/airdata/daily_aqi_by_county_2018.zip\")\n"
   ]
  },
  {
   "cell_type": "markdown",
   "id": "5b6fc44c-c6d2-4534-9bf1-6825afc1a3aa",
   "metadata": {},
   "source": [
    "# Data Wrangling\n",
    "Let's update the datasets and clean anything that may need updated and wrangle the data to be more aligned with what we're hoping to analyze. \n",
    "\n",
    "1. We want to simplify the columns in the datasets and make sure we do not have any extra dimensions in our bands dataframe. \n",
    "\n",
    "2. Then, we want to combine our 2017 and 2018 dataframes into one and wrangle the data so we only have the location and columns we care about.  \n",
    "\n",
    "3. We then want to narrow our data focus and update it to specifically look at the Thomas Fire and Santa Barbara County. \n",
    "\n",
    "4. Lastly, we need to make sure all mapping data is in the same CRS so we can project it on the same scale."
   ]
  },
  {
   "cell_type": "code",
   "execution_count": null,
   "id": "1f4a300f-2ade-462c-a415-606848ac7b63",
   "metadata": {},
   "outputs": [],
   "source": [
    "1. ## Making the CA Fires columns lowercase \n",
    "ca_fires.columns = ca_fires.columns.str.lower()\n",
    "ca_fires.head() #checking the columns were updated\n",
    "\n",
    "## Removing the band from the bands dataframe:\n",
    "bands = bands.squeeze()\n",
    "bands = bands.drop('band')\n",
    "print(bands.dims, '\\n', bands.coords, '\\n') #checking the band was removed from our dataframe\n"
   ]
  },
  {
   "cell_type": "code",
   "execution_count": null,
   "id": "f7418887-f255-4a0c-b8b0-8a30021dc05e",
   "metadata": {},
   "outputs": [],
   "source": [
    "2. #Updating AQI Data:\n",
    "# Combining the dataframes into one\n",
    "aqi = pd.concat([aqi_17, aqi_18])\n",
    "\n",
    "# We also want to reset the index\n",
    "aqi = aqi.reset_index(drop=True)\n",
    "print(aqi.index) #yes we can confirm this looks right\n",
    "\n",
    "# Checking the columns:\n",
    "print(aqi.columns, '\\n')\n",
    "#We want to make them lowercase now:\n",
    "aqi.columns = aqi.columns.str.lower()\n",
    "print(aqi.columns, '\\n')\n",
    "#We still see that there are spaces in the names, so lets replace with a '_'\n",
    "aqi.columns = aqi.columns.str.replace(' ','_')\n",
    "print(aqi.columns) \n",
    "#Nice, the columns look good! \n"
   ]
  },
  {
   "cell_type": "code",
   "execution_count": null,
   "id": "fdbde797-c882-4bcc-a5f3-473553588343",
   "metadata": {},
   "outputs": [],
   "source": [
    "#3. Looking at just the Thomas Fire and Santa Barbara county. \n",
    "\n",
    "#AQI DATA\n",
    "# Selecting data from 'Santa Barbara' county\n",
    "aqi_sb = aqi[aqi['county_name'] == 'Santa Barbara'].copy()\n",
    "\n",
    "# Dropping specified columns\n",
    "columns_to_drop = ['state_name', 'county_name', 'state_code', 'county_code']\n",
    "aqi_sb.drop(columns_to_drop, inplace=True, axis = 1)\n",
    "\n",
    "# Checking data types of the columns\n",
    "print(aqi_sb.dtypes)\n",
    "#The data column is stored as an object and it needs to be converted to datetime!\n",
    "\n",
    "# Updating the date column to a datetime object\n",
    "aqi_sb['date'] = pd.to_datetime(aqi_sb['date'])\n",
    "\n",
    "# Setting the index to be the date column\n",
    "aqi_sb.set_index('date', inplace=True)\n",
    "\n",
    "# Checking the updated DataFrame\n",
    "print(aqi_sb.index)\n",
    "#the data type is datetime, which looks correct! \n",
    "\n",
    "\n",
    "# CA FIRES DATA\n",
    "# Making sure I have just the Thomas Fire data:\n",
    "ca_fires_new = ca_fires[ca_fires.fire_name == \"THOMAS\"]\n"
   ]
  },
  {
   "cell_type": "code",
   "execution_count": null,
   "id": "6ceea93a-be23-4501-932a-1c247d37f9ee",
   "metadata": {},
   "outputs": [],
   "source": [
    "# 4. Updating the CRS's:\n",
    "print(ca_fires.crs)\n",
    "print(bands.rio.crs)\n",
    "#I noticed they are different so I'm going to convert the CA crs\n",
    "ca_fires_new = ca_fires_new.to_crs(32611)\n",
    "\n",
    "#checking to make sure the crs is updated:\n",
    "ca_fires_new.crs == bands.rio.crs"
   ]
  },
  {
   "cell_type": "markdown",
   "id": "72bb6b12-85b4-4090-a638-0b02fea0f1aa",
   "metadata": {},
   "source": [
    "# Data Analysis"
   ]
  },
  {
   "cell_type": "markdown",
   "id": "196d2a83-7b81-4596-b8a0-9c2df9c995b5",
   "metadata": {},
   "source": [
    "## Calculating the Rolling Averages \n",
    "We want to evaluate the change in air quality from before, during, and after the fire in 2017 and 2018. To do this, we need to calculate a 5 day rolling average of the air quality index data. To do this, we first need to make sure we are only looking at Santa Barbara County data, combine our 2017 and 2018 data, and clean up any fields necessary. Then we can calculate moving averages and plot the data to evaluate any impacts of the Thomas Fire on Santa Barbara County. "
   ]
  },
  {
   "cell_type": "code",
   "execution_count": 73,
   "id": "a187ed0d-71b3-451e-a629-845e435763ed",
   "metadata": {},
   "outputs": [],
   "source": [
    "#Calculating rolling window for the AQI_SB data:\n",
    "aqi_sb.aqi.rolling('5D').mean()\n",
    "\n",
    "# Adding a new column with the 5-day rolling mean:\n",
    "aqi_sb['five_day_average'] = aqi_sb.aqi.rolling('5D').mean()\n"
   ]
  },
  {
   "cell_type": "markdown",
   "id": "2bc50c19",
   "metadata": {},
   "source": [
    "Now we can plot the rolling averages!"
   ]
  },
  {
   "cell_type": "code",
   "execution_count": null,
   "id": "4ea50301-bf9b-478a-b4c8-9b712ae60053",
   "metadata": {},
   "outputs": [],
   "source": [
    "#Plotting the AQI 5-day average:\n",
    "plt.figure(figsize=(12, 6))\n",
    "plt.plot(aqi_sb.index, aqi_sb['aqi'], label='Daily AQI', color='cornflowerblue')\n",
    "plt.plot(aqi_sb.index, aqi_sb['five_day_average'], label='5-Day Average', color='salmon')\n",
    "plt.title('AQI and 5-Day Average')\n",
    "plt.xlabel('Date')\n",
    "plt.ylabel('AQI')\n",
    "plt.legend()\n",
    "plt.show()\n"
   ]
  },
  {
   "cell_type": "markdown",
   "id": "9ba31d7d",
   "metadata": {},
   "source": [
    "![](aqi.png){width=80%}"
   ]
  },
  {
   "cell_type": "markdown",
   "id": "dd745e74-b981-4679-92d4-cf1967e88c0f",
   "metadata": {},
   "source": [
    "## Creating a Map of CA Thomas Fire \n",
    "We also want to understand the impacts of the Thomas Fire on Santa Barbara County through mapping. To do this, we are going to create a false color image of Santa Barbara County with the landsat bands data and map this with our Thomas fire perimeter to understand where in California the fire spanned and how large it was. "
   ]
  },
  {
   "cell_type": "code",
   "execution_count": null,
   "id": "8c80abbe-b21c-4457-8a12-e76299b26806",
   "metadata": {
    "tags": []
   },
   "outputs": [],
   "source": [
    "#Creating a false color image \n",
    "bands[[\"swir22\", \"nir08\", \"red\"]].to_array()\n",
    "#Now we have our image we can graph this with our Thomas Fire perimeter"
   ]
  },
  {
   "cell_type": "code",
   "execution_count": null,
   "id": "b8beda50",
   "metadata": {},
   "outputs": [],
   "source": [
    "## Plotting the shapefile\n",
    "fig, ax = plt.subplots()\n",
    "size = 6 #height in of plot \n",
    "aspect = bands.rio.width/bands.rio.height\n",
    "fig.set_size_inches(size, size*aspect) #why? bc cannot use ax and size aspect together\n",
    "bands[[\"swir22\", \"nir08\", \"red\"]].to_array().plot.imshow(ax=ax, robust = True)\n",
    "ca_fires_new .plot(ax=ax,facecolor='none', edgecolor='red', linewidth=2, alpha=0.5)\n",
    "\n",
    "## Set plot title\n",
    "plt.title('Map of the Thomas Fire Perimeter (2017) in California')\n",
    "\n",
    "# Remove the axes\n",
    "plt.axis('off')\n",
    "\n",
    "# Set legend with linestyle='None'\n",
    "legend_elements = [mlines.Line2D([0], [0], color='red', marker = '_', linestyle='None', markersize=10, label='Thomas Fire')]\n",
    "\n",
    "# Add legend\n",
    "ax.legend(handles=legend_elements)\n",
    "\n",
    "## Showing the plot\n",
    "plt.show()"
   ]
  },
  {
   "cell_type": "markdown",
   "id": "56ae9ed6",
   "metadata": {},
   "source": [
    "![](thomas_map.png){width=50%}"
   ]
  }
 ],
 "metadata": {
  "kernelspec": {
   "display_name": "Anaconda 3 (Base)",
   "language": "python",
   "name": "base"
  },
  "language_info": {
   "codemirror_mode": {
    "name": "ipython",
    "version": 3
   },
   "file_extension": ".py",
   "mimetype": "text/x-python",
   "name": "python",
   "nbconvert_exporter": "python",
   "pygments_lexer": "ipython3",
   "version": "3.9.13"
  }
 },
 "nbformat": 4,
 "nbformat_minor": 5
}
